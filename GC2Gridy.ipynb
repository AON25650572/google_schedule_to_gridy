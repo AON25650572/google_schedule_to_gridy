{
 "cells": [
  {
   "cell_type": "markdown",
   "metadata": {},
   "source": [
    "# Google Calendar to Gridy"
   ]
  },
  {
   "cell_type": "markdown",
   "metadata": {},
   "source": [
    "- 指定したカレンダーのカレンダーIDを取得\n",
    "- APIを使って情報を抜き出す\n",
    "- Gridyにインポートできるように整形\n",
    "- seleniumとかでぶち込む？（APIあるかな）"
   ]
  },
  {
   "cell_type": "code",
   "execution_count": 1,
   "metadata": {},
   "outputs": [],
   "source": [
    "import json\n",
    "\n",
    "from __future__ import print_function\n",
    "import datetime\n",
    "import pickle\n",
    "import os.path\n",
    "from googleapiclient.discovery import build\n",
    "from google_auth_oauthlib.flow import InstalledAppFlow\n",
    "from google.auth.transport.requests import Request\n",
    "\n",
    "import sys"
   ]
  },
  {
   "cell_type": "code",
   "execution_count": 2,
   "metadata": {},
   "outputs": [],
   "source": [
    "# 抜き出すCalendarIDはJsonファイルで保存\n",
    "with open(\"../calendar_info.json\",\"r\") as f:\n",
    "    calendar_info = json.load(f)"
   ]
  },
  {
   "cell_type": "markdown",
   "metadata": {},
   "source": [
    "```Python\n",
    "calendar_info = {任意の名前: カレンダーID, ...}\n",
    "```"
   ]
  },
  {
   "cell_type": "code",
   "execution_count": 3,
   "metadata": {},
   "outputs": [],
   "source": [
    "# この辺りはテンプレ\n",
    "\n",
    "# これらのスコープを変更する場合は、token.pickleというファイルを削除してください。\n",
    "SCOPES = ['https://www.googleapis.com/auth/calendar.readonly']\n",
    "\n",
    "creds = None\n",
    "# token.pickleファイルには、ユーザーのアクセストークンと\n",
    "# リフレッシュトークンが格納されており、認証フローが初めて完了したときに\n",
    "# 自動的に作成されます。\n",
    "if os.path.exists('../token.pickle'):\n",
    "    # gitにupする関係上ログイン関係ファイルは1階層下に配置している\n",
    "    with open('../token.pickle', 'rb') as token:\n",
    "        creds = pickle.load(token)\n",
    "        \n",
    "# 利用可能な（有効な）認証情報がない場合は、ユーザーのログインを許可します。\n",
    "if not creds or not creds.valid:\n",
    "    if creds and creds.expired and creds.refresh_token:\n",
    "        creds.refresh(Request())\n",
    "    else:\n",
    "        flow = InstalledAppFlow.from_client_secrets_file(\n",
    "            '../credentials.json', SCOPES)\n",
    "        creds = flow.run_local_server(port=0)\n",
    "    # Save the credentials for the next run\n",
    "    with open('../token.pickle', 'wb') as token:\n",
    "        pickle.dump(creds, token)\n",
    "        \n",
    "# たぶん、カレンダーだよって主張している\n",
    "service = build('calendar', 'v3', credentials=creds)"
   ]
  },
  {
   "cell_type": "code",
   "execution_count": 4,
   "metadata": {},
   "outputs": [],
   "source": [
    "# Calendar APIの呼び出し\n",
    "# 現在時刻\n",
    "now = datetime.datetime.utcnow().isoformat() + 'Z' # 'Z' indicates UTC time\n",
    "\n",
    "yotei = {}\n",
    "# カレンダーIDすべての予定を抽出\n",
    "for ID in calendar_info.values():\n",
    "    events_result = service.events().list(calendarId=ID, timeMin=now,\n",
    "                                        maxResults=100, singleEvents=True,\n",
    "                                        orderBy='startTime').execute()\n",
    "    for event in events_result.get('items', []):\n",
    "        yotei[event[\"id\"]] = {'summary':event['summary'],\n",
    "                              \"start\":event[\"start\"],\n",
    "                              \"end\":event[\"end\"]}"
   ]
  },
  {
   "cell_type": "markdown",
   "metadata": {},
   "source": [
    "- 項目名\t説明\n",
    "- BEGIN:VCALENDAR*\t先頭行に入力します。\n",
    "- BEGIN:VEVENT\tスケジュール情報の先頭行に入力します。\n",
    "- 複数のスケジュールをインポートすることも可能です。その場合、BEGIN:VEVENTから- END:VEVENTを繰り返し入力してください。\n",
    "- SUMMARY:*\tスケジュールのタイトルです。(100文字まで)\n",
    "- DTSTART:*\tスケジュールの開始日時です。\n",
    "- DTEND:*\tスケジュールの終了日時です。\n",
    "- LOCATION:\tスケジュールの住所です。(100文字まで)\n",
    "- DESCRIPTION:\tスケジュールのメモです。\n",
    "- 改行コードを使用する場合は、\\(バックスラッシュ)nを使用してください。(10000文字まで)\n",
    "- END:VEVENT\tスケジュール情報の最終行に入力します。\n",
    "- END:VCALENDAR*\t最終行に入力します。"
   ]
  },
  {
   "cell_type": "markdown",
   "metadata": {},
   "source": [
    "| インポートするスケジュール | 日時:2018年7月25日10:00から11:30<br />タイトル:会議<br />日時:2018年8月1日14:00から15:00<br />タイトル:外出<br />住所:東京都港区<br />メモ:1行目<br />2行目<br />3行目 |\n",
    "| -------------------------- | ------------------------------------------------------------ |\n",
    "| iCalファイル入力例         | BEGIN:VCALENDAR<br/>BEGIN:VEVENT<br/>SUMMARY:会議<br/>DTSTART:20180725T100000<br/>DTEND:20180725T113000<br/>END:VEVENT<br/>BEGIN:VEVENT<br/>SUMMARY:外出<br/>DTSTART:20180801T140000<br/>DTEND:20180801T150000<br/>DESCRIPTION:1行目\\n2行目\\n3行目<br/>LOCATION:東京都港区<br/>END:VEVENT<br/>END:VCALENDAR |\n",
    "\n"
   ]
  },
  {
   "cell_type": "code",
   "execution_count": 5,
   "metadata": {},
   "outputs": [],
   "source": [
    "# インポートするファイルの中身\n",
    "yotei_iCal_text = \"\"\n",
    "# 最初に書くおまじない\n",
    "ini = \"\"\"BEGIN:VCALENDAR\\n\n",
    "\"\"\"\n",
    "# 最後に書くおまじない\n",
    "end = \"\"\"\n",
    "END:VCALENDAR\n",
    "\"\"\"\n",
    "\n",
    "# iCalファイルの中身を書き出し\n",
    "yotei_iCal_text += ini\n",
    "\n",
    "for event in yotei.values():\n",
    "    # おまじない\n",
    "    yotei_iCal_text += \"BEGIN:VEVENT\\n\"\n",
    "    # タイトル\n",
    "    yotei_iCal_text += \"SUMMARY:\"+event[\"summary\"]+\"\\n\"\n",
    "    # start\n",
    "    # dateTimeの時の処理\n",
    "    if list(event[\"start\"].keys())[0] == \"dateTime\":\n",
    "        date,time = event[\"start\"][\"dateTime\"].split(\"T\")\n",
    "        year,month,day = date.split(\"-\")\n",
    "        time = time.split(\"+\")[0]\n",
    "        hour,minit,second = time.split(\":\")\n",
    "\n",
    "        yotei_iCal_text += \"DTSTART:\"+year+month+day+\"T\"+hour+minit+second+\"\\n\"\n",
    "    # dateの時の処理\n",
    "    if list(event[\"start\"].keys())[0] == \"date\":\n",
    "        year,month,day = event[\"start\"][\"date\"].split(\"-\")\n",
    "\n",
    "        yotei_iCal_text += \"DTSTART:\"+year+month+day+\"T000000\\n\"\n",
    "    # end\n",
    "    # dateTimeの時の処理\n",
    "    if list(event[\"end\"].keys())[0] == \"dateTime\":\n",
    "        date,time = event[\"end\"][\"dateTime\"].split(\"T\")\n",
    "        year,month,day = date.split(\"-\")\n",
    "        time = time.split(\"+\")[0]\n",
    "        hour,minit,second = time.split(\":\")\n",
    "\n",
    "        yotei_iCal_text += \"DTEND:\"+year+month+day+\"T\"+hour+minit+second+\"\\n\"\n",
    "    # dateの時の処理\n",
    "    if list(event[\"end\"].keys())[0] == \"date\":\n",
    "        year,month,day = event[\"end\"][\"date\"].split(\"-\")\n",
    "\n",
    "        yotei_iCal_text += \"DTEND:\"+year+month+day+\"T000000\\n\"\n",
    "    # おまじない\n",
    "    yotei_iCal_text += \"END:VEVENT\\n\"\n",
    "    \n",
    "yotei_iCal_text += end"
   ]
  },
  {
   "cell_type": "code",
   "execution_count": 6,
   "metadata": {},
   "outputs": [
    {
     "name": "stdout",
     "output_type": "stream",
     "text": [
      "BEGIN:VCALENDAR\n",
      "\n",
      "BEGIN:VEVENT\n",
      "SUMMARY:🦋Morfonica ZEPP TOUR 2021「Amabile」大阪公演\n",
      "DTSTART:20211028T000000\n",
      "DTEND:20211029T000000\n",
      "END:VEVENT\n",
      "BEGIN:VEVENT\n",
      "SUMMARY:🦋Morfonica ZEPP TOUR 2021「Amabile」東京公演\n",
      "DTSTART:20211105T000000\n",
      "DTEND:20211106T000000\n",
      "END:VEVENT\n",
      "BEGIN:VEVENT\n",
      "SUMMARY:内定者懇談会\n",
      "DTSTART:20211110T133000\n",
      "DTEND:20211110T153000\n",
      "END:VEVENT\n",
      "BEGIN:VEVENT\n",
      "SUMMARY:🎧RAISE A SUILEN ZEPP TOUR 2021「BE LIGHT」追加公演 ＠Zepp Sapporo\n",
      "DTSTART:20211112T000000\n",
      "DTEND:20211113T000000\n",
      "END:VEVENT\n",
      "BEGIN:VEVENT\n",
      "SUMMARY:🎧RAISE A SUILEN ZEPP TOUR 2021「BE LIGHT」追加公演 ＠Zepp Fukuoka\n",
      "DTSTART:20211126T000000\n",
      "DTEND:20211127T000000\n",
      "END:VEVENT\n",
      "BEGIN:VEVENT\n",
      "SUMMARY:🎧RAISE A SUILEN ZEPP TOUR 2021「BE LIGHT」追加公演 ＠KT Zepp Yokohama\n",
      "DTSTART:20211204T000000\n",
      "DTEND:20211205T000000\n",
      "END:VEVENT\n",
      "BEGIN:VEVENT\n",
      "SUMMARY:🌹2021年Roselia単独ライブ\n",
      "DTSTART:20211211T000000\n",
      "DTEND:20211212T000000\n",
      "END:VEVENT\n",
      "BEGIN:VEVENT\n",
      "SUMMARY:🌹2021年Roselia単独ライブ\n",
      "DTSTART:20211212T000000\n",
      "DTEND:20211213T000000\n",
      "END:VEVENT\n",
      "\n",
      "END:VCALENDAR\n",
      "\n"
     ]
    }
   ],
   "source": [
    "print(yotei_iCal_text)"
   ]
  },
  {
   "cell_type": "code",
   "execution_count": 7,
   "metadata": {},
   "outputs": [],
   "source": [
    "with open(\"../import.ics\",\"w\", encoding=\"utf8\") as f:\n",
    "    f.write(yotei_iCal_text)"
   ]
  }
 ],
 "metadata": {
  "kernelspec": {
   "display_name": "Python 3 (ipykernel)",
   "language": "python",
   "name": "python3"
  },
  "language_info": {
   "codemirror_mode": {
    "name": "ipython",
    "version": 3
   },
   "file_extension": ".py",
   "mimetype": "text/x-python",
   "name": "python",
   "nbconvert_exporter": "python",
   "pygments_lexer": "ipython3",
   "version": "3.8.5"
  }
 },
 "nbformat": 4,
 "nbformat_minor": 4
}
