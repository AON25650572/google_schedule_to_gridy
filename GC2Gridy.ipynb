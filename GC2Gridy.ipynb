{
 "cells": [
  {
   "cell_type": "markdown",
   "metadata": {},
   "source": [
    "# Google Calendar to Gridy"
   ]
  },
  {
   "cell_type": "markdown",
   "metadata": {},
   "source": [
    "- 指定したカレンダーのカレンダーIDを取得\n",
    "- APIを使って情報を抜き出す\n",
    "- Gridyにインポートできるように整形\n",
    "- seleniumとかでぶち込む？（APIあるかな）"
   ]
  },
  {
   "cell_type": "code",
   "execution_count": 12,
   "metadata": {},
   "outputs": [],
   "source": [
    "import json\n",
    "\n",
    "from __future__ import print_function\n",
    "import datetime\n",
    "import pickle\n",
    "import os.path\n",
    "from googleapiclient.discovery import build\n",
    "from google_auth_oauthlib.flow import InstalledAppFlow\n",
    "from google.auth.transport.requests import Request\n",
    "\n",
    "import sys"
   ]
  },
  {
   "cell_type": "code",
   "execution_count": 5,
   "metadata": {},
   "outputs": [],
   "source": [
    "# 抜き出すCalendarIDはJsonファイルで保存\n",
    "with open(\"../calendar_info.json\",\"r\") as f:\n",
    "    calendar_info = json.load(f)"
   ]
  },
  {
   "cell_type": "markdown",
   "metadata": {},
   "source": [
    "```Python\n",
    "calendar_info = {任意の名前: カレンダーID, ...}\n",
    "```"
   ]
  },
  {
   "cell_type": "code",
   "execution_count": 11,
   "metadata": {},
   "outputs": [],
   "source": [
    "# この辺りはテンプレ\n",
    "\n",
    "# これらのスコープを変更する場合は、token.pickleというファイルを削除してください。\n",
    "SCOPES = ['https://www.googleapis.com/auth/calendar.readonly']\n",
    "\n",
    "creds = None\n",
    "# token.pickleファイルには、ユーザーのアクセストークンと\n",
    "# リフレッシュトークンが格納されており、認証フローが初めて完了したときに\n",
    "# 自動的に作成されます。\n",
    "if os.path.exists('../token.pickle'):\n",
    "    # gitにupする関係上ログイン関係ファイルは1階層下に配置している\n",
    "    with open('../token.pickle', 'rb') as token:\n",
    "        creds = pickle.load(token)\n",
    "        \n",
    "# 利用可能な（有効な）認証情報がない場合は、ユーザーのログインを許可します。\n",
    "if not creds or not creds.valid:\n",
    "    if creds and creds.expired and creds.refresh_token:\n",
    "        creds.refresh(Request())\n",
    "    else:\n",
    "        flow = InstalledAppFlow.from_client_secrets_file(\n",
    "            '../credentials.json', SCOPES)\n",
    "        creds = flow.run_local_server(port=0)\n",
    "    # Save the credentials for the next run\n",
    "    with open('../token.pickle', 'wb') as token:\n",
    "        pickle.dump(creds, token)\n",
    "        \n",
    "# たぶん、カレンダーだよって主張している\n",
    "service = build('calendar', 'v3', credentials=creds)"
   ]
  },
  {
   "cell_type": "code",
   "execution_count": 20,
   "metadata": {},
   "outputs": [],
   "source": [
    "# Calendar APIの呼び出し\n",
    "# 現在時刻\n",
    "now = datetime.datetime.utcnow().isoformat() + 'Z' # 'Z' indicates UTC time\n",
    "\n",
    "yotei = {}\n",
    "# カレンダーIDすべての予定を抽出\n",
    "for ID in calendar_info.values():\n",
    "    events_result = service.events().list(calendarId=ID, timeMin=now,\n",
    "                                        maxResults=100, singleEvents=True,\n",
    "                                        orderBy='startTime').execute()\n",
    "    for event in events_result.get('items', []):\n",
    "        yotei[event[\"id\"]] = {'summary':event['summary'],\n",
    "                              \"start\":event[\"start\"],\n",
    "                              \"end\":event[\"end\"]}"
   ]
  },
  {
   "cell_type": "code",
   "execution_count": 1,
   "metadata": {},
   "outputs": [],
   "source": [
    "# yotei"
   ]
  }
 ],
 "metadata": {
  "kernelspec": {
   "display_name": "Python 3",
   "language": "python",
   "name": "python3"
  },
  "language_info": {
   "codemirror_mode": {
    "name": "ipython",
    "version": 3
   },
   "file_extension": ".py",
   "mimetype": "text/x-python",
   "name": "python",
   "nbconvert_exporter": "python",
   "pygments_lexer": "ipython3",
   "version": "3.8.5"
  }
 },
 "nbformat": 4,
 "nbformat_minor": 4
}
