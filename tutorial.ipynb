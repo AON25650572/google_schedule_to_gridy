{
 "cells": [
  {
   "cell_type": "markdown",
   "metadata": {},
   "source": [
    "# google_schedule_to_gridy"
   ]
  },
  {
   "cell_type": "markdown",
   "metadata": {},
   "source": [
    "グーグルカレンダーの予定をgridyに自動でぶち込みたい"
   ]
  },
  {
   "cell_type": "markdown",
   "metadata": {},
   "source": [
    "どうやらAPIがあってPythonから触れるらしい。後々バンドリのカレンダーの方にも実装しとこう"
   ]
  },
  {
   "cell_type": "markdown",
   "metadata": {},
   "source": [
    "APIの設定とかの話はこっち\n",
    "\n",
    "https://blowup-bbs.com/google-calender-api-python-quickstart/"
   ]
  },
  {
   "cell_type": "markdown",
   "metadata": {},
   "source": [
    "APIで作製したJsonファイルは実行ファイルと同じ階層においておく"
   ]
  },
  {
   "cell_type": "markdown",
   "metadata": {},
   "source": [
    "ソースとかの話はこっち\n",
    "\n",
    "https://non-dimension.com/python-googlecalendarapi/#toc9"
   ]
  },
  {
   "cell_type": "markdown",
   "metadata": {},
   "source": [
    "ここからはquickstart.pyの中身についてみていく"
   ]
  },
  {
   "cell_type": "code",
   "execution_count": 1,
   "metadata": {},
   "outputs": [],
   "source": [
    "from __future__ import print_function\n",
    "import datetime\n",
    "import pickle\n",
    "import os.path\n",
    "from googleapiclient.discovery import build\n",
    "from google_auth_oauthlib.flow import InstalledAppFlow\n",
    "from google.auth.transport.requests import Request"
   ]
  },
  {
   "cell_type": "code",
   "execution_count": 2,
   "metadata": {},
   "outputs": [],
   "source": [
    "# これらのスコープを変更する場合は、token.pickleというファイルを削除してください。\n",
    "SCOPES = ['https://www.googleapis.com/auth/calendar.readonly']"
   ]
  },
  {
   "cell_type": "markdown",
   "metadata": {},
   "source": [
    "Google Calendar APIの基本的な使用方法を示します。\n",
    "\n",
    "ユーザーのカレンダーにある次の10個のイベントの開始と名前を表示します。"
   ]
  },
  {
   "cell_type": "code",
   "execution_count": 3,
   "metadata": {},
   "outputs": [],
   "source": [
    "creds = None\n",
    "# token.pickleファイルには、ユーザーのアクセストークンと\n",
    "# リフレッシュトークンが格納されており、認証フローが初めて完了したときに\n",
    "# 自動的に作成されます。\n",
    "if os.path.exists('../token.pickle'):\n",
    "    # gitにupする関係上ログイン関係ファイルは1階層下に配置している\n",
    "    with open('../token.pickle', 'rb') as token:\n",
    "        creds = pickle.load(token)"
   ]
  },
  {
   "cell_type": "code",
   "execution_count": 4,
   "metadata": {},
   "outputs": [],
   "source": [
    "# 利用可能な（有効な）認証情報がない場合は、ユーザーのログインを許可します。\n",
    "if not creds or not creds.valid:\n",
    "    if creds and creds.expired and creds.refresh_token:\n",
    "        creds.refresh(Request())\n",
    "    else:\n",
    "        flow = InstalledAppFlow.from_client_secrets_file(\n",
    "            '../credentials.json', SCOPES)\n",
    "        creds = flow.run_local_server(port=0)\n",
    "    # Save the credentials for the next run\n",
    "    with open('../token.pickle', 'wb') as token:\n",
    "        pickle.dump(creds, token)"
   ]
  },
  {
   "cell_type": "markdown",
   "metadata": {},
   "source": [
    "The authentication flow has completed. You may close this window.（認証フローが完了しました。このウィンドウを閉じても構いません。）が出たらOK"
   ]
  },
  {
   "cell_type": "code",
   "execution_count": 5,
   "metadata": {},
   "outputs": [],
   "source": [
    "# たぶん、カレンダーだよって主張している\n",
    "service = build('calendar', 'v3', credentials=creds)"
   ]
  },
  {
   "cell_type": "code",
   "execution_count": 6,
   "metadata": {},
   "outputs": [
    {
     "name": "stdout",
     "output_type": "stream",
     "text": [
      "Getting the upcoming 10 events\n"
     ]
    }
   ],
   "source": [
    "# Calendar APIの呼び出し\n",
    "now = datetime.datetime.utcnow().isoformat() + 'Z' # 'Z' indicates UTC time\n",
    "print('Getting the upcoming 10 events')\n",
    "events_result = service.events().list(calendarId='primary', timeMin=now,\n",
    "                                    maxResults=10, singleEvents=True,\n",
    "                                    orderBy='startTime').execute()\n",
    "events = events_result.get('items', [])"
   ]
  },
  {
   "cell_type": "markdown",
   "metadata": {},
   "source": [
    "- calendarId: string, カレンダーの識別子。カレンダー ID を取得するには、calendarList.list メソッドを呼び出します。現在ログインしているユーザのプライマリ・カレンダーにアクセスしたい場合は、\"primary\" キーワードを使用します。(必須)\n",
    "    - IDの確認方法はGoogleカレンダーの【設定】>【マイカレンダーの設定】から確認したいカレンダーを選択し、【カレンダーの統合】で【カレンダー ID】が確認できます。\n",
    "- timeMin: 予定を取得する最小時刻\n",
    "- maxResults: APIが返す最大の予定数\n",
    "- singleEvents: boolean, 繰り返し発生するイベントをインスタンスに展開し、単一の単発イベントと繰り返し発生するイベントのインスタンスのみを返し、基本となる繰り返し発生するイベント自体は返さないかどうか。オプションです。デフォルトはFalseです。\n",
    "    - 日本語ガバガバでどっちやねん\n",
    "- orderBy: string, 結果として返されるイベントの順序。任意です。デフォルトは、指定されていない安定した順序です。"
   ]
  },
  {
   "cell_type": "code",
   "execution_count": 7,
   "metadata": {},
   "outputs": [
    {
     "name": "stdout",
     "output_type": "stream",
     "text": [
      "<class 'list'>\n",
      "<class 'dict'>\n",
      "dict_keys(['kind', 'etag', 'id', 'status', 'htmlLink', 'created', 'updated', 'summary', 'description', 'creator', 'organizer', 'start', 'end', 'iCalUID', 'sequence', 'reminders', 'eventType'])\n"
     ]
    }
   ],
   "source": [
    "print(type(events))\n",
    "print(type(events[0]))\n",
    "print(events[0].keys())"
   ]
  },
  {
   "cell_type": "markdown",
   "metadata": {},
   "source": [
    "色々あるけど、代表的な（自分が使う）奴をメモ\n",
    "- 'summary': 予定名\n",
    "- 'start': {'date': '2021-04-10'}\n",
    "- 'end': {'date': '2021-04-11'}"
   ]
  }
 ],
 "metadata": {
  "kernelspec": {
   "display_name": "Python 3",
   "language": "python",
   "name": "python3"
  },
  "language_info": {
   "codemirror_mode": {
    "name": "ipython",
    "version": 3
   },
   "file_extension": ".py",
   "mimetype": "text/x-python",
   "name": "python",
   "nbconvert_exporter": "python",
   "pygments_lexer": "ipython3",
   "version": "3.8.5"
  }
 },
 "nbformat": 4,
 "nbformat_minor": 4
}
